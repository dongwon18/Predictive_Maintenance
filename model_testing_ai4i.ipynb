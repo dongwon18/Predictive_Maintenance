{
  "nbformat": 4,
  "nbformat_minor": 0,
  "metadata": {
    "colab": {
      "name": "model_testing_ai4i.ipynb",
      "provenance": [],
      "collapsed_sections": [],
      "toc_visible": true,
      "authorship_tag": "ABX9TyP37ReoxcBXT74L4BX0uKLR"
    },
    "kernelspec": {
      "name": "python3",
      "display_name": "Python 3"
    },
    "language_info": {
      "name": "python"
    }
  },
  "cells": [
    {
      "cell_type": "code",
      "metadata": {
        "colab": {
          "base_uri": "https://localhost:8080/"
        },
        "id": "W6vG4xth4Kgc",
        "outputId": "f37d924f-97ef-4c6b-a586-4613fe7022e3"
      },
      "source": [
        "from google.colab import drive\n",
        "drive.mount('/content/drive')"
      ],
      "execution_count": null,
      "outputs": [
        {
          "output_type": "stream",
          "text": [
            "Drive already mounted at /content/drive; to attempt to forcibly remount, call drive.mount(\"/content/drive\", force_remount=True).\n"
          ],
          "name": "stdout"
        }
      ]
    },
    {
      "cell_type": "code",
      "metadata": {
        "colab": {
          "base_uri": "https://localhost:8080/"
        },
        "id": "rQVRgA854Rk1",
        "outputId": "f5f3f937-2676-4d58-ad5a-f0c3cad8c5d6"
      },
      "source": [
        "cd /content/drive/My\\ Drive/Colab\\ Notebooks/summer_coop/ai4i2020"
      ],
      "execution_count": null,
      "outputs": [
        {
          "output_type": "stream",
          "text": [
            "/content/drive/My Drive/Colab Notebooks/summer_coop/ai4i2020\n"
          ],
          "name": "stdout"
        }
      ]
    },
    {
      "cell_type": "code",
      "metadata": {
        "colab": {
          "base_uri": "https://localhost:8080/"
        },
        "id": "TFSYKzRT4XkZ",
        "outputId": "34ce4402-ccd7-4de3-f6ab-ae07caa2a068"
      },
      "source": [
        "import pandas as pd\n",
        "ai4i_df = pd.read_csv('./ai4i2020.csv')\n",
        "print(ai4i_df.columns)\n",
        "# make dict of column name\n",
        "ai4i_col = {}\n",
        "for i in range(len(ai4i_df.columns)):\n",
        "    ai4i_col[ai4i_df.columns[i]] = i \n",
        "print(ai4i_col)"
      ],
      "execution_count": null,
      "outputs": [
        {
          "output_type": "stream",
          "text": [
            "Index(['UDI', 'Product ID', 'Type', 'Air temperature [K]',\n",
            "       'Process temperature [K]', 'Rotational speed [rpm]', 'Torque [Nm]',\n",
            "       'Tool wear [min]', 'Machine failure', 'TWF', 'HDF', 'PWF', 'OSF',\n",
            "       'RNF'],\n",
            "      dtype='object')\n",
            "{'UDI': 0, 'Product ID': 1, 'Type': 2, 'Air temperature [K]': 3, 'Process temperature [K]': 4, 'Rotational speed [rpm]': 5, 'Torque [Nm]': 6, 'Tool wear [min]': 7, 'Machine failure': 8, 'TWF': 9, 'HDF': 10, 'PWF': 11, 'OSF': 12, 'RNF': 13}\n"
          ],
          "name": "stdout"
        }
      ]
    },
    {
      "cell_type": "markdown",
      "metadata": {
        "id": "Dfy_ReV14cWH"
      },
      "source": [
        "## Binary Classification\n",
        "### Extract features and class\n",
        "- features: Air temperature, Process temeprature, Rotatoinial speed, Torque, Tool wear\n",
        "- class: machine failure"
      ]
    },
    {
      "cell_type": "code",
      "metadata": {
        "id": "zOawWNGw4bc5"
      },
      "source": [
        "ai4i_arr = ai4i_df.to_numpy()\n",
        "input_arr = ai4i_arr[:, ai4i_col['Air temperature [K]']:ai4i_col['Machine failure']]\n",
        "target_arr = ai4i_arr[:, ai4i_col['Machine failure']]"
      ],
      "execution_count": null,
      "outputs": []
    },
    {
      "cell_type": "markdown",
      "metadata": {
        "id": "OCVoEwW_4jVv"
      },
      "source": [
        "### Normalization the data"
      ]
    },
    {
      "cell_type": "code",
      "metadata": {
        "id": "dLf7Q8I64i2e"
      },
      "source": [
        "import numpy as np\n",
        "\n",
        "mean = np.mean(input_arr, axis = 0)\n",
        "std = np.std(np.array(input_arr, dtype = np.float32), axis = 0)\n",
        "\n",
        "input_arr = (input_arr - mean) / std"
      ],
      "execution_count": null,
      "outputs": []
    },
    {
      "cell_type": "markdown",
      "metadata": {
        "id": "0qUUIsq94mrx"
      },
      "source": [
        "### Split train data and test data\n",
        "- feature: (10000, 5) -> (8000, 5), (2000, 5)\n",
        "- class: (10000,) -> (8000,), (2000,)"
      ]
    },
    {
      "cell_type": "code",
      "metadata": {
        "id": "K93br7_84oDo"
      },
      "source": [
        "from sklearn.model_selection import train_test_split\n",
        "input_arr = np.array(input_arr, dtype = np.float32)\n",
        "target_arr = np.array(target_arr, dtype = np.int)\n",
        "input_arr = input_arr.reshape(-1, 5, 1)\n",
        "\n",
        "train_input, test_input, train_target, test_target = train_test_split(input_arr, target_arr, stratify = target_arr, test_size = 0.2)"
      ],
      "execution_count": null,
      "outputs": []
    },
    {
      "cell_type": "code",
      "metadata": {
        "colab": {
          "base_uri": "https://localhost:8080/"
        },
        "id": "WMucsD_k4s-t",
        "outputId": "21ec1330-cc12-41e6-8b62-58784f7dd203"
      },
      "source": [
        "print(train_input.shape, test_input.shape, train_target.shape, test_target.shape)"
      ],
      "execution_count": null,
      "outputs": [
        {
          "output_type": "stream",
          "text": [
            "(8000, 5, 1) (2000, 5, 1) (8000,) (2000,)\n"
          ],
          "name": "stdout"
        }
      ]
    },
    {
      "cell_type": "code",
      "metadata": {
        "id": "3wtfR4my5eJb"
      },
      "source": [
        "from tensorflow import keras\n",
        "cnn = keras.models.load_model('./best-cnn-model.h5')\n",
        "rnn = keras.models.load_model('./best_rnn_model.h5')\n",
        "lstm = keras.models.load_model('./best_lstm_model.h5')\n",
        "gru = keras.models.load_model('./best_gru_model.h5')\n"
      ],
      "execution_count": null,
      "outputs": []
    },
    {
      "cell_type": "markdown",
      "metadata": {
        "id": "EK2Qeh4qhfSx"
      },
      "source": [
        "### Test model"
      ]
    },
    {
      "cell_type": "code",
      "metadata": {
        "colab": {
          "base_uri": "https://localhost:8080/"
        },
        "id": "r8JVlnNK574x",
        "outputId": "0309810d-c7df-493e-d77b-594172b55ccb"
      },
      "source": [
        "cnn_score = cnn.evaluate(test_input, test_target)"
      ],
      "execution_count": null,
      "outputs": [
        {
          "output_type": "stream",
          "text": [
            "63/63 [==============================] - 0s 1ms/step - loss: 0.0716 - accuracy: 0.9760\n"
          ],
          "name": "stdout"
        }
      ]
    },
    {
      "cell_type": "code",
      "metadata": {
        "colab": {
          "base_uri": "https://localhost:8080/"
        },
        "id": "Tg5wy8Xl6mN2",
        "outputId": "e8d2404a-c820-4419-dea8-1e9a9db9a061"
      },
      "source": [
        "rnn_score = rnn.evaluate(test_input, test_target)"
      ],
      "execution_count": null,
      "outputs": [
        {
          "output_type": "stream",
          "text": [
            "63/63 [==============================] - 0s 1ms/step - loss: 0.0916 - accuracy: 0.9695\n"
          ],
          "name": "stdout"
        }
      ]
    },
    {
      "cell_type": "code",
      "metadata": {
        "colab": {
          "base_uri": "https://localhost:8080/"
        },
        "id": "Wek9KbQD6rRc",
        "outputId": "7e5097dc-0344-4439-e54a-e63f8b23260f"
      },
      "source": [
        "lstm_score = lstm.evaluate(test_input, test_target)"
      ],
      "execution_count": null,
      "outputs": [
        {
          "output_type": "stream",
          "text": [
            "63/63 [==============================] - 1s 2ms/step - loss: 0.1069 - accuracy: 0.9660\n"
          ],
          "name": "stdout"
        }
      ]
    },
    {
      "cell_type": "code",
      "metadata": {
        "colab": {
          "base_uri": "https://localhost:8080/"
        },
        "id": "6710jVgC6t0h",
        "outputId": "ae32684d-9818-4faa-e4b3-d7ab963619b6"
      },
      "source": [
        "gru_score = gru.evaluate(test_input, test_target)"
      ],
      "execution_count": null,
      "outputs": [
        {
          "output_type": "stream",
          "text": [
            "63/63 [==============================] - 0s 2ms/step - loss: 0.0983 - accuracy: 0.9705\n"
          ],
          "name": "stdout"
        }
      ]
    },
    {
      "cell_type": "code",
      "metadata": {
        "id": "WFyTbvjCjXyv"
      },
      "source": [
        "cnn_predict = cnn.predict(test_input).flatten()\n",
        "rnn_predict = rnn.predict(test_input).flatten()\n",
        "lstm_predict = lstm.predict(test_input).flatten()\n",
        "gru_predict = gru.predict(test_input).flatten()"
      ],
      "execution_count": null,
      "outputs": []
    },
    {
      "cell_type": "code",
      "metadata": {
        "colab": {
          "base_uri": "https://localhost:8080/"
        },
        "id": "lO2Phnfbk62Z",
        "outputId": "c5e420f8-4a41-468d-9514-9f4eb6054faf"
      },
      "source": [
        "cnn_predict.shape"
      ],
      "execution_count": null,
      "outputs": [
        {
          "output_type": "execute_result",
          "data": {
            "text/plain": [
              "(2000,)"
            ]
          },
          "metadata": {
            "tags": []
          },
          "execution_count": 124
        }
      ]
    },
    {
      "cell_type": "code",
      "metadata": {
        "colab": {
          "base_uri": "https://localhost:8080/"
        },
        "id": "sAOhXjhNjpRw",
        "outputId": "56b60d81-f4bd-4e1c-c0c4-3e57b788bbdc"
      },
      "source": [
        "outputs = np.array([cnn_predict, rnn_predict, lstm_predict, gru_predict])\n",
        "print(outputs.shape)"
      ],
      "execution_count": null,
      "outputs": [
        {
          "output_type": "stream",
          "text": [
            "(4, 2000)\n"
          ],
          "name": "stdout"
        }
      ]
    },
    {
      "cell_type": "markdown",
      "metadata": {
        "id": "K34Z4So6hm_T"
      },
      "source": [
        "### Voted Ensemble"
      ]
    },
    {
      "cell_type": "code",
      "metadata": {
        "id": "mY9vhf3YjVYe"
      },
      "source": [
        "class SoftEnsemble:\n",
        "    def __init__(self):\n",
        "        super().__init__()\n",
        "    \n",
        "    def soft_ensemble(self, outputs):\n",
        "        average = []\n",
        "        for i in range(outputs.shape[1]):\n",
        "            sum = 0\n",
        "            for j in range(outputs.shape[0]):\n",
        "                sum += outputs[j][i]\n",
        "            average.append(sum / 4)\n",
        "        average = np.array(average)\n",
        "        return average\n",
        "    \n",
        "    def decision(self, average):\n",
        "        decision = []\n",
        "        for i in range(len(average)):\n",
        "            if(average[i] >= 0.5):\n",
        "                decision.append(1)\n",
        "            else:\n",
        "                decision.append(0)\n",
        "        \n",
        "        return decision\n",
        "\n",
        "    def scoring(self, prediction, answer):\n",
        "        score = 0\n",
        "        for i in range(len(prediction)):\n",
        "            if(prediction[i] == answer[i]):\n",
        "                \n",
        "                score += 1\n",
        "        return score / len(prediction)"
      ],
      "execution_count": null,
      "outputs": []
    },
    {
      "cell_type": "code",
      "metadata": {
        "colab": {
          "base_uri": "https://localhost:8080/"
        },
        "id": "yCnIyaVIj0az",
        "outputId": "5514186d-a184-47be-bbc5-cc4eeff8308d"
      },
      "source": [
        "se = SoftEnsemble()\n",
        "average = se.soft_ensemble(outputs)\n",
        "decision = se.decision(average)\n",
        "ensemble_score = se.scoring(decision, test_target)\n",
        "print(ensemble_score)"
      ],
      "execution_count": null,
      "outputs": [
        {
          "output_type": "stream",
          "text": [
            "0.9705\n"
          ],
          "name": "stdout"
        }
      ]
    },
    {
      "cell_type": "code",
      "metadata": {
        "colab": {
          "base_uri": "https://localhost:8080/"
        },
        "id": "SWn9gV-h7OZ2",
        "outputId": "3b821d1c-fd2d-4a74-f51f-3e22dee4062c"
      },
      "source": [
        "infile = open('ai4i_result.tsv', 'a')\n",
        "infile.write('binary_test:\\t{:.3f}\\t{:.3f}\\t{:.3f}\\t{:.3f}\\t{:.3f}\\n'.format(cnn_score[1], rnn_score[1], lstm_score[1], gru_score[1], ensemble_score))"
      ],
      "execution_count": null,
      "outputs": [
        {
          "output_type": "execute_result",
          "data": {
            "text/plain": [
              "43"
            ]
          },
          "metadata": {
            "tags": []
          },
          "execution_count": 128
        }
      ]
    },
    {
      "cell_type": "markdown",
      "metadata": {
        "id": "vg_mE9Nc4w-o"
      },
      "source": [
        "## Multiclass Classification"
      ]
    },
    {
      "cell_type": "markdown",
      "metadata": {
        "id": "xVdShB4c4y92"
      },
      "source": [
        "### Extract features and class\n",
        "- features: Air temperature, Process temeprature, Rotatoinial speed, Torque, Tool wear\n",
        "- class: TWF, HDF, PWF, OSF, RNF(detailed machine failure )"
      ]
    },
    {
      "cell_type": "code",
      "metadata": {
        "colab": {
          "base_uri": "https://localhost:8080/"
        },
        "id": "l_ZeJP874-ga",
        "outputId": "34cdf2fe-3a50-454d-a915-939df6e903b9"
      },
      "source": [
        "target_arr = ai4i_arr[:, ai4i_col['TWF']:]\n",
        "print(input_arr.shape, target_arr.shape)"
      ],
      "execution_count": null,
      "outputs": [
        {
          "output_type": "stream",
          "text": [
            "(10000, 5, 1) (10000, 5)\n"
          ],
          "name": "stdout"
        }
      ]
    },
    {
      "cell_type": "markdown",
      "metadata": {
        "id": "Ouh4g1fS42yU"
      },
      "source": [
        "### Apply Priority Encoder to targets\n",
        "- tensorflow's target should be 1 dim [ref](https://stackoverflow.com/questions/49083984/valueerror-can-not-squeeze-dim1-expected-a-dimension-of-1-got-3-for-sparse)\n",
        "    - change one hot encoded target to int\n",
        "    - ex. [0 0 1 0] -> 3\n",
        "    - work as priority encoder\n",
        "    - ex. [0 0 1 1] -> 3 (not 3.5 or 4)\n",
        "    - change target shape (10000, 5) -> (10000)\n",
        "    - 0: no failure\n",
        "    - 1: TWF \n",
        "    - 2: HDF\n",
        "    - 3: PWF\n",
        "    - 4: OSF\n",
        "    - 5: RNF\n",
        "    - total 6 classes to recognize"
      ]
    },
    {
      "cell_type": "code",
      "metadata": {
        "id": "mJe-PdOy5BFE"
      },
      "source": [
        "target_int = []\n",
        "one_hot = 0\n",
        "for x in target_arr:\n",
        "    for i in range(len(target_arr[0])):\n",
        "        # failure situation\n",
        "        if(x[i] == 1):\n",
        "            target_int.append(i + 1)\n",
        "            one_hot = 1\n",
        "            break # priority encoder\n",
        "    # normal situation\n",
        "    if(one_hot == 0):\n",
        "        target_int.append(0)\n",
        "    one_hot = 0\n",
        "        \n",
        "target_int = np.array(target_int, dtype = np.int)"
      ],
      "execution_count": null,
      "outputs": []
    },
    {
      "cell_type": "markdown",
      "metadata": {
        "id": "b3n1JRSK5Eif"
      },
      "source": [
        "### Split train data and test data"
      ]
    },
    {
      "cell_type": "code",
      "metadata": {
        "colab": {
          "base_uri": "https://localhost:8080/"
        },
        "id": "NA7tNhBT5GjN",
        "outputId": "084dd27a-f2e5-4dc6-a4d7-e2bb00793046"
      },
      "source": [
        "train_input, test_input, train_target, test_target = train_test_split(input_arr, target_int, test_size = 0.2)\n",
        "print(train_input.shape, test_input.shape, train_target.shape, test_target.shape)"
      ],
      "execution_count": null,
      "outputs": [
        {
          "output_type": "stream",
          "text": [
            "(8000, 5, 1) (2000, 5, 1) (8000,) (2000,)\n"
          ],
          "name": "stdout"
        }
      ]
    },
    {
      "cell_type": "code",
      "metadata": {
        "id": "hwOpe5GF5Jf7"
      },
      "source": [
        "train_input = np.array(train_input, dtype = np.float32)\n",
        "train_target = np.array(train_target, dtype = np.int)\n",
        "test_input = np.array(test_input, dtype = np.float32)\n",
        "test_target = np.array(test_target, dtype = np.int)"
      ],
      "execution_count": null,
      "outputs": []
    },
    {
      "cell_type": "markdown",
      "metadata": {
        "id": "GE9nuds_8Ce9"
      },
      "source": [
        "### Test model"
      ]
    },
    {
      "cell_type": "code",
      "metadata": {
        "id": "VzXsNbcB8B9F"
      },
      "source": [
        "cnn_m = keras.models.load_model('./best_cnn_m_model.h5')\n",
        "rnn_m = keras.models.load_model('./best_rnn_m_model.h5')\n",
        "lstm_m = keras.models.load_model('./best_lstm_m_model.h5')\n",
        "gru_m = keras.models.load_model('./best_gru_m_model.h5')"
      ],
      "execution_count": null,
      "outputs": []
    },
    {
      "cell_type": "code",
      "metadata": {
        "colab": {
          "base_uri": "https://localhost:8080/"
        },
        "id": "k8A_oBAJ8STf",
        "outputId": "3e9244ee-de21-4c33-8f74-14c79021405c"
      },
      "source": [
        "cnn_m_score = cnn_m.evaluate(test_input, test_target)"
      ],
      "execution_count": null,
      "outputs": [
        {
          "output_type": "stream",
          "text": [
            "63/63 [==============================] - 0s 1ms/step - loss: 0.0589 - accuracy: 0.9820\n"
          ],
          "name": "stdout"
        }
      ]
    },
    {
      "cell_type": "code",
      "metadata": {
        "colab": {
          "base_uri": "https://localhost:8080/"
        },
        "id": "Ar3aL54y8Y_u",
        "outputId": "2f813489-b660-4426-8f67-1e1fd940d294"
      },
      "source": [
        "rnn_m_score = rnn_m.evaluate(test_input, test_target)"
      ],
      "execution_count": null,
      "outputs": [
        {
          "output_type": "stream",
          "text": [
            "63/63 [==============================] - 0s 1ms/step - loss: 0.1155 - accuracy: 0.9705\n"
          ],
          "name": "stdout"
        }
      ]
    },
    {
      "cell_type": "code",
      "metadata": {
        "colab": {
          "base_uri": "https://localhost:8080/"
        },
        "id": "Bneh3fSj8ZVy",
        "outputId": "5f9c18a2-69c6-4e6f-9966-aa3049ea41e8"
      },
      "source": [
        "lstm_m_score = lstm_m.evaluate(test_input, test_target)"
      ],
      "execution_count": null,
      "outputs": [
        {
          "output_type": "stream",
          "text": [
            "63/63 [==============================] - 1s 1ms/step - loss: 0.1312 - accuracy: 0.9695\n"
          ],
          "name": "stdout"
        }
      ]
    },
    {
      "cell_type": "code",
      "metadata": {
        "colab": {
          "base_uri": "https://localhost:8080/"
        },
        "id": "RKvEsWcr8Zq8",
        "outputId": "00540da1-dc74-417f-e4d5-78144580bdb7"
      },
      "source": [
        "gru_m_score = gru_m.evaluate(test_input, test_target)"
      ],
      "execution_count": null,
      "outputs": [
        {
          "output_type": "stream",
          "text": [
            "63/63 [==============================] - 0s 2ms/step - loss: 0.1220 - accuracy: 0.9705\n"
          ],
          "name": "stdout"
        }
      ]
    },
    {
      "cell_type": "code",
      "metadata": {
        "id": "xg3Bked0khHB"
      },
      "source": [
        "cnn_m_predict = cnn_m.predict(test_input)\n",
        "rnn_m_predict = rnn_m.predict(test_input)\n",
        "lstm_m_predict = lstm_m.predict(test_input)\n",
        "gru_m_predict = gru_m.predict(test_input)"
      ],
      "execution_count": null,
      "outputs": []
    },
    {
      "cell_type": "code",
      "metadata": {
        "colab": {
          "base_uri": "https://localhost:8080/"
        },
        "id": "qcyJCuFJmrT-",
        "outputId": "8587f255-7f9f-4fd0-e9f7-3cecd8381c25"
      },
      "source": [
        "outputs_mul = np.array([cnn_m_predict, rnn_m_predict, lstm_m_predict, gru_m_predict])\n",
        "print(outputs_mul.shape)"
      ],
      "execution_count": null,
      "outputs": [
        {
          "output_type": "stream",
          "text": [
            "(4, 2000, 6)\n"
          ],
          "name": "stdout"
        }
      ]
    },
    {
      "cell_type": "code",
      "metadata": {
        "colab": {
          "base_uri": "https://localhost:8080/"
        },
        "id": "O5l9cLI6locb",
        "outputId": "448d703a-c883-4808-c022-7606460729e3"
      },
      "source": [
        "cnn_m_predict[0, :]"
      ],
      "execution_count": null,
      "outputs": [
        {
          "output_type": "execute_result",
          "data": {
            "text/plain": [
              "array([9.2525828e-01, 3.5425209e-02, 4.0870538e-10, 1.0156809e-04,\n",
              "       3.8301304e-02, 9.1361691e-04], dtype=float32)"
            ]
          },
          "metadata": {
            "tags": []
          },
          "execution_count": 140
        }
      ]
    },
    {
      "cell_type": "markdown",
      "metadata": {
        "id": "TuBjcl2qhqNr"
      },
      "source": [
        "### Voted Ensemble"
      ]
    },
    {
      "cell_type": "code",
      "metadata": {
        "id": "gIJ0XWKt9Aws"
      },
      "source": [
        "class SoftEnsembleMul:\n",
        "    def __init__(self):\n",
        "        super().__init__()\n",
        "\n",
        "    def soft_ensemble_multi(self, outputs):\n",
        "        average = []\n",
        "        for i in range(outputs.shape[1]):\n",
        "            sum = [0] * outputs.shape[2]\n",
        "            for k in range(outputs.shape[2]):\n",
        "                for j in range(outputs.shape[0]):                \n",
        "                    sum[k] += outputs[j][i][k]\n",
        "                sum[k] = sum[k] / outputs.shape[0]\n",
        "            average.append(sum)\n",
        "        average = np.array(average)\n",
        "        return average\n",
        "    \n",
        "    def decision(self, average):\n",
        "        decision = []\n",
        "        for i in range(average.shape[0]):\n",
        "            decision.append(average[i].argmax())        \n",
        "        return decision\n",
        "\n",
        "    def scoring(self, prediction, answer):\n",
        "        score = 0\n",
        "        for i in range(len(prediction)):            \n",
        "            if(prediction[i] == answer[i]):\n",
        "                if(prediction[i] != 0):\n",
        "                    print(prediction[i], answer[i])\n",
        "                \n",
        "                score += 1\n",
        "        return score / len(prediction)"
      ],
      "execution_count": null,
      "outputs": []
    },
    {
      "cell_type": "code",
      "metadata": {
        "colab": {
          "base_uri": "https://localhost:8080/"
        },
        "id": "zMAjLrFboLEX",
        "outputId": "0eb3fc72-33bb-4c6a-d35a-2e2372b6c1eb"
      },
      "source": [
        "se_m = SoftEnsembleMul()\n",
        "average_m = se_m.soft_ensemble_multi(outputs_mul)\n",
        "print(average_m.shape)\n",
        "decision_m = se_m.decision(average_m)\n",
        "print(len(decision_m))\n",
        "ensemble_score_m = se_m.scoring(decision_m, test_target)\n",
        "print(ensemble_score_m)"
      ],
      "execution_count": null,
      "outputs": [
        {
          "output_type": "stream",
          "text": [
            "(2000, 6)\n",
            "2000\n",
            "3 3\n",
            "2 2\n",
            "3 3\n",
            "4 4\n",
            "0.9715\n"
          ],
          "name": "stdout"
        }
      ]
    },
    {
      "cell_type": "code",
      "metadata": {
        "colab": {
          "base_uri": "https://localhost:8080/"
        },
        "id": "-f9X7SZlqcKF",
        "outputId": "6e893586-d483-4346-da64-8ee63d4cef04"
      },
      "source": [
        "decision_arr = np.array(decision_m)\n",
        "print(decision_arr.max())\n",
        "print(np.unique(decision_arr))"
      ],
      "execution_count": null,
      "outputs": [
        {
          "output_type": "stream",
          "text": [
            "4\n",
            "[0 2 3 4]\n"
          ],
          "name": "stdout"
        }
      ]
    },
    {
      "cell_type": "code",
      "metadata": {
        "id": "BZCgha8w8ylY"
      },
      "source": [
        "infile.write('multi_test:\\t{:.3f}\\t{:.3f}\\t{:.3f}\\t{:.3f}\\t{:.3f}\\n'.format(cnn_m_score[1], rnn_m_score[1], lstm_m_score[1], gru_m_score[1], ensemble_score_m))\n",
        "infile.close()"
      ],
      "execution_count": null,
      "outputs": []
    }
  ]
}